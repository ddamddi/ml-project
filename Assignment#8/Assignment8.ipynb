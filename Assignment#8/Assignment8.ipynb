{
 "cells": [
  {
   "cell_type": "markdown",
   "metadata": {},
   "source": [
    "# Assignment 8"
   ]
  },
  {
   "cell_type": "code",
   "execution_count": 1,
   "metadata": {},
   "outputs": [
    {
     "data": {
      "text/plain": [
       "'1.2.0'"
      ]
     },
     "execution_count": 1,
     "metadata": {},
     "output_type": "execute_result"
    }
   ],
   "source": [
    "from __future__ import print_function\n",
    "\n",
    "import torch\n",
    "import torch.nn as nn\n",
    "import torch.nn.functional as F\n",
    "import torch.optim as optim\n",
    "import torch.backends.cudnn as cudnn\n",
    "import torchvision\n",
    "import torchvision.transforms as transforms\n",
    "from torch.utils.data import Dataset, DataLoader\n",
    "from torch.autograd import Variable\n",
    "import numpy as np\n",
    "from tqdm.notebook import trange, tqdm\n",
    "import matplotlib.pyplot as plt\n",
    "\n",
    "torch.__version__"
   ]
  },
  {
   "cell_type": "markdown",
   "metadata": {},
   "source": [
    "## Load test data and add noises"
   ]
  },
  {
   "cell_type": "code",
   "execution_count": 2,
   "metadata": {},
   "outputs": [],
   "source": [
    "class numpyDataset(Dataset):\n",
    "    def __init__(self, data, transform=None):\n",
    "        self.data = torch.from_numpy(data).float()\n",
    "        self.transform = transform\n",
    "        \n",
    "    def __getitem__(self, index):\n",
    "        x = self.data[index]\n",
    "        \n",
    "        if self.transform:\n",
    "            x = self.transform(x)\n",
    "        \n",
    "        return x\n",
    "    \n",
    "    def __len__(self):\n",
    "        return len(self.data)"
   ]
  },
  {
   "cell_type": "code",
   "execution_count": 3,
   "metadata": {},
   "outputs": [],
   "source": [
    "def activateNoises(imagedata, std_dev):\n",
    "    noisedata = imagedata + np.random.normal(0, std_dev, imagedata.shape)\n",
    "    \n",
    "    noisedata = np.minimum(noisedata, 1)\n",
    "    noisedata = np.maximum(noisedata, 0)\n",
    "    \n",
    "    return noisedata"
   ]
  },
  {
   "cell_type": "code",
   "execution_count": 4,
   "metadata": {},
   "outputs": [],
   "source": [
    "noises = [0.1, 0.2, 0.3, 0.4]\n",
    "\n",
    "transform       = transforms.Compose([\n",
    "                                transforms.ToPILImage(),\n",
    "                                transforms.Grayscale(num_output_channels=1),\n",
    "                                transforms.ToTensor(),\n",
    "                            ])\n",
    "\n",
    "# for training\n",
    "traindata       = np.load('data/train.npy')\n",
    "traindataset    = numpyDataset(traindata, transform)\n",
    "\n",
    "noisedata       = activateNoises(traindata, 0.25)\n",
    "noisedataset    = numpyDataset(noisedata, transform)\n",
    "\n",
    "trainloader     = DataLoader(traindataset, batch_size=64, shuffle=False, num_workers=0)\n",
    "noiseloader     = DataLoader(noisedataset, batch_size=64, shuffle=False, num_workers=0)"
   ]
  },
  {
   "cell_type": "markdown",
   "metadata": {},
   "source": [
    "## Define AutoEncoder"
   ]
  },
  {
   "cell_type": "code",
   "execution_count": 14,
   "metadata": {},
   "outputs": [],
   "source": [
    "class AutoEncoder(nn.Module):\n",
    "    \n",
    "    def __init__(self):\n",
    "        super(AutoEncoder, self).__init__()\n",
    "        self.encoder = nn.Sequential(\n",
    "            nn.Conv2d(1, 128, 3, stride=1, padding=1),  # b, 16, 10, 10\n",
    "            nn.ReLU(True),\n",
    "            nn.MaxPool2d(2, stride=2),  # b, 16, 5, 5\n",
    "            \n",
    "            nn.Conv2d(128, 32, 3, stride=1, padding=1),  # b, 16, 10, 10\n",
    "            nn.ReLU(True),\n",
    "            nn.MaxPool2d(2, stride=2),\n",
    "            \n",
    "            nn.Conv2d(32, 8, 3, stride=1, padding=1),  # b, 8, 3, 3\n",
    "            nn.ReLU(True),\n",
    "#             nn.MaxPool2d(2, stride=2),  # b, 8, 2, 2\n",
    "            \n",
    "#             nn.Conv2d(8, 1, 3, stride=1, padding=1),  # b, 8, 3, 3\n",
    "#             nn.ReLU(True), \n",
    "        )\n",
    "        self.decoder = nn.Sequential(\n",
    "#             nn.ConvTranspose2d(1, 8, 3, stride=1, padding=1),  # b, 16, 5, 5\n",
    "#             nn.ReLU(True),\n",
    "            \n",
    "            nn.ConvTranspose2d(8, 32, 3, stride=1, padding=1),  # b, 16, 5, 5\n",
    "            nn.ReLU(True),\n",
    "            \n",
    "            nn.ConvTranspose2d(32, 128, 2, stride=2),  # b, 8, 15, 15\n",
    "            nn.ReLU(True),\n",
    "            \n",
    "            nn.ConvTranspose2d(128, 1, 2, stride=2),  # b, 8, 15, 15\n",
    "            nn.Tanh()\n",
    "            \n",
    "#             nn.ConvTranspose2d(8, 4, 2, stride=2, padding=0),  # b, 1, 28, 28\n",
    "#             nn.ReLU(True),\n",
    "#             nn.ConvTranspose2d(4, 1, 2, stride=2, padding=0),  # b, 1, 28, 28\n",
    "\n",
    "        )\n",
    "\n",
    "    def forward(self, x):\n",
    "        x = self.encoder(x)\n",
    "#         print(x.shape)\n",
    "        x = self.decoder(x)\n",
    "#         print(x.shape)\n",
    "        return x"
   ]
  },
  {
   "cell_type": "code",
   "execution_count": 15,
   "metadata": {},
   "outputs": [],
   "source": [
    "model = AutoEncoder()\n",
    "\n",
    "bCuda = 1\n",
    "\n",
    "if bCuda:\n",
    "    model.cuda()\n",
    "\n",
    "optimizer   = optim.SGD(model.parameters(), lr=1e-1, weight_decay=1e-5)\n",
    "objective   = nn.MSELoss()\n",
    "\n",
    "def train():\n",
    "    \n",
    "    loss_train = []\n",
    "    \n",
    "    model.train()\n",
    "    \n",
    "    trainiter = iter(trainloader)\n",
    "    \n",
    "    for idx_batch, data in enumerate(noiseloader):\n",
    "        \n",
    "        original = trainiter.next()\n",
    "        \n",
    "        if bCuda:\n",
    "            data = data.cuda()\n",
    "            original = original.cuda()\n",
    "        \n",
    "        data = Variable(data)\n",
    "        original = Variable(original)\n",
    "\n",
    "        optimizer.zero_grad()\n",
    "        output = model(data)\n",
    "        \n",
    "        loss = objective(output, original)\n",
    "        loss.backward()\n",
    "        optimizer.step()\n",
    "\n",
    "        loss_train_batch = loss.item()\n",
    "        loss_train.append(loss_train_batch)\n",
    "    \n",
    "    \n",
    "    loss_train_mean = np.mean(loss_train)\n",
    "    loss_train_std  = np.std(loss_train)\n",
    "    \n",
    "    return {'loss_train_mean': loss_train_mean, 'loss_train_std': loss_train_std }"
   ]
  },
  {
   "cell_type": "code",
   "execution_count": 16,
   "metadata": {
    "scrolled": true
   },
   "outputs": [
    {
     "data": {
      "application/vnd.jupyter.widget-view+json": {
       "model_id": "e44a2860d80b465b99d646c40058b981",
       "version_major": 2,
       "version_minor": 0
      },
      "text/plain": [
       "HBox(children=(IntProgress(value=0), HTML(value='')))"
      ]
     },
     "metadata": {},
     "output_type": "display_data"
    },
    {
     "name": "stdout",
     "output_type": "stream",
     "text": [
      "[epoch     1] loss: (training) 0.02037 \n",
      "[epoch     2] loss: (training) 0.01944 \n",
      "[epoch     3] loss: (training) 0.01939 \n",
      "[epoch     4] loss: (training) 0.01932 \n",
      "[epoch     5] loss: (training) 0.01919 \n",
      "[epoch     6] loss: (training) 0.01891 \n",
      "[epoch     7] loss: (training) 0.01830 \n",
      "[epoch     8] loss: (training) 0.01670 \n",
      "[epoch     9] loss: (training) 0.01258 \n",
      "[epoch    10] loss: (training) 0.00693 \n",
      "[epoch    11] loss: (training) 0.00529 \n",
      "[epoch    12] loss: (training) 0.00513 \n",
      "[epoch    13] loss: (training) 0.00486 \n",
      "[epoch    14] loss: (training) 0.00477 \n",
      "[epoch    15] loss: (training) 0.00451 \n",
      "[epoch    16] loss: (training) 0.00443 \n",
      "[epoch    17] loss: (training) 0.00432 \n",
      "[epoch    18] loss: (training) 0.00422 \n",
      "[epoch    19] loss: (training) 0.00414 \n",
      "[epoch    20] loss: (training) 0.00405 \n",
      "[epoch    21] loss: (training) 0.00400 \n",
      "[epoch    22] loss: (training) 0.00391 \n",
      "[epoch    23] loss: (training) 0.00385 \n",
      "[epoch    24] loss: (training) 0.00377 \n",
      "[epoch    25] loss: (training) 0.00371 \n",
      "[epoch    26] loss: (training) 0.00364 \n",
      "[epoch    27] loss: (training) 0.00359 \n",
      "[epoch    28] loss: (training) 0.00354 \n",
      "[epoch    29] loss: (training) 0.00349 \n",
      "[epoch    30] loss: (training) 0.00345 \n",
      "[epoch    31] loss: (training) 0.00341 \n",
      "[epoch    32] loss: (training) 0.00337 \n",
      "[epoch    33] loss: (training) 0.00334 \n",
      "[epoch    34] loss: (training) 0.00331 \n",
      "[epoch    35] loss: (training) 0.00328 \n",
      "[epoch    36] loss: (training) 0.00326 \n",
      "[epoch    37] loss: (training) 0.00324 \n",
      "[epoch    38] loss: (training) 0.00322 \n",
      "[epoch    39] loss: (training) 0.00320 \n",
      "[epoch    40] loss: (training) 0.00318 \n",
      "[epoch    41] loss: (training) 0.00317 \n",
      "[epoch    42] loss: (training) 0.00316 \n",
      "[epoch    43] loss: (training) 0.00314 \n",
      "[epoch    44] loss: (training) 0.00313 \n",
      "[epoch    45] loss: (training) 0.00312 \n",
      "[epoch    46] loss: (training) 0.00311 \n",
      "[epoch    47] loss: (training) 0.00310 \n",
      "[epoch    48] loss: (training) 0.00310 \n",
      "[epoch    49] loss: (training) 0.00309 \n",
      "[epoch    50] loss: (training) 0.00308 \n",
      "[epoch    51] loss: (training) 0.00307 \n",
      "[epoch    52] loss: (training) 0.00307 \n",
      "[epoch    53] loss: (training) 0.00306 \n",
      "[epoch    54] loss: (training) 0.00305 \n",
      "[epoch    55] loss: (training) 0.00305 \n",
      "[epoch    56] loss: (training) 0.00304 \n",
      "[epoch    57] loss: (training) 0.00304 \n",
      "[epoch    58] loss: (training) 0.00303 \n",
      "[epoch    59] loss: (training) 0.00303 \n",
      "[epoch    60] loss: (training) 0.00302 \n",
      "[epoch    61] loss: (training) 0.00302 \n",
      "[epoch    62] loss: (training) 0.00301 \n",
      "[epoch    63] loss: (training) 0.00301 \n",
      "[epoch    64] loss: (training) 0.00300 \n",
      "[epoch    65] loss: (training) 0.00300 \n",
      "[epoch    66] loss: (training) 0.00300 \n",
      "[epoch    67] loss: (training) 0.00299 \n",
      "[epoch    68] loss: (training) 0.00299 \n",
      "[epoch    69] loss: (training) 0.00299 \n",
      "[epoch    70] loss: (training) 0.00298 \n",
      "[epoch    71] loss: (training) 0.00298 \n",
      "[epoch    72] loss: (training) 0.00298 \n",
      "[epoch    73] loss: (training) 0.00297 \n",
      "[epoch    74] loss: (training) 0.00297 \n",
      "[epoch    75] loss: (training) 0.00297 \n",
      "[epoch    76] loss: (training) 0.00297 \n",
      "[epoch    77] loss: (training) 0.00296 \n",
      "[epoch    78] loss: (training) 0.00296 \n",
      "[epoch    79] loss: (training) 0.00296 \n",
      "[epoch    80] loss: (training) 0.00296 \n",
      "[epoch    81] loss: (training) 0.00295 \n",
      "[epoch    82] loss: (training) 0.00295 \n",
      "[epoch    83] loss: (training) 0.00295 \n",
      "[epoch    84] loss: (training) 0.00295 \n",
      "[epoch    85] loss: (training) 0.00295 \n",
      "[epoch    86] loss: (training) 0.00294 \n",
      "[epoch    87] loss: (training) 0.00294 \n",
      "[epoch    88] loss: (training) 0.00294 \n",
      "[epoch    89] loss: (training) 0.00294 \n",
      "[epoch    90] loss: (training) 0.00294 \n",
      "[epoch    91] loss: (training) 0.00293 \n",
      "[epoch    92] loss: (training) 0.00293 \n",
      "[epoch    93] loss: (training) 0.00293 \n",
      "[epoch    94] loss: (training) 0.00293 \n",
      "[epoch    95] loss: (training) 0.00293 \n",
      "[epoch    96] loss: (training) 0.00293 \n",
      "[epoch    97] loss: (training) 0.00292 \n",
      "[epoch    98] loss: (training) 0.00292 \n",
      "[epoch    99] loss: (training) 0.00292 \n",
      "[epoch   100] loss: (training) 0.00292 \n",
      "\n"
     ]
    }
   ],
   "source": [
    "NUM_EPOCH = 100\n",
    "loss_train_mean = []\n",
    "loss_train_std = []\n",
    "\n",
    "for epoch in trange(NUM_EPOCH):\n",
    "        \n",
    "    result_train = train()\n",
    "    \n",
    "    loss_train_mean.append(result_train['loss_train_mean'])\n",
    "    loss_train_std.append(result_train['loss_train_std'])\n",
    "    \n",
    "    print(\"[epoch %5d] loss: (training) %0.5f \" % (epoch+1, result_train['loss_train_mean']))"
   ]
  },
  {
   "cell_type": "code",
   "execution_count": 8,
   "metadata": {},
   "outputs": [],
   "source": [
    "def imshow(img):\n",
    "    npimg = img.numpy()\n",
    "    plt.imshow(np.transpose(npimg, (1, 2, 0)))\n",
    "    plt.show()"
   ]
  },
  {
   "cell_type": "code",
   "execution_count": 17,
   "metadata": {},
   "outputs": [],
   "source": [
    "# for training\n",
    "testdata       = np.load('data/test.npy')\n",
    "testdataset    = numpyDataset(testdata, transform)\n",
    "\n",
    "noisetestdata       = activateNoises(testdata, 0.25)\n",
    "noisetestdataset    = numpyDataset(noisetestdata, transform)\n",
    "\n",
    "testloader     = DataLoader(testdataset, batch_size=64, shuffle=False, num_workers=0)\n",
    "noisetestloader     = DataLoader(noisetestdataset, batch_size=64, shuffle=False, num_workers=0)"
   ]
  },
  {
   "cell_type": "code",
   "execution_count": 40,
   "metadata": {},
   "outputs": [],
   "source": [
    "testiter = iter(testloader)\n",
    "noiseiter = iter(noisetestloader)"
   ]
  },
  {
   "cell_type": "code",
   "execution_count": 41,
   "metadata": {},
   "outputs": [],
   "source": [
    "original = testiter.next()\n",
    "noises = noiseiter.next()"
   ]
  },
  {
   "cell_type": "code",
   "execution_count": 48,
   "metadata": {
    "scrolled": true
   },
   "outputs": [
    {
     "ename": "StopIteration",
     "evalue": "",
     "output_type": "error",
     "traceback": [
      "\u001b[1;31m---------------------------------------------------------------------------\u001b[0m",
      "\u001b[1;31mStopIteration\u001b[0m                             Traceback (most recent call last)",
      "\u001b[1;32m<ipython-input-48-62a1aa15d334>\u001b[0m in \u001b[0;36m<module>\u001b[1;34m\u001b[0m\n\u001b[1;32m----> 1\u001b[1;33m \u001b[0moriginal\u001b[0m \u001b[1;33m=\u001b[0m \u001b[0mtestiter\u001b[0m\u001b[1;33m.\u001b[0m\u001b[0mnext\u001b[0m\u001b[1;33m(\u001b[0m\u001b[1;33m)\u001b[0m\u001b[1;33m\u001b[0m\u001b[1;33m\u001b[0m\u001b[0m\n\u001b[0m\u001b[0;32m      2\u001b[0m \u001b[0mnoises\u001b[0m \u001b[1;33m=\u001b[0m \u001b[0mnoiseiter\u001b[0m\u001b[1;33m.\u001b[0m\u001b[0mnext\u001b[0m\u001b[1;33m(\u001b[0m\u001b[1;33m)\u001b[0m\u001b[1;33m\u001b[0m\u001b[1;33m\u001b[0m\u001b[0m\n\u001b[0;32m      3\u001b[0m \u001b[1;33m\u001b[0m\u001b[0m\n\u001b[0;32m      4\u001b[0m \u001b[0mimshow\u001b[0m\u001b[1;33m(\u001b[0m\u001b[0mtorchvision\u001b[0m\u001b[1;33m.\u001b[0m\u001b[0mutils\u001b[0m\u001b[1;33m.\u001b[0m\u001b[0mmake_grid\u001b[0m\u001b[1;33m(\u001b[0m\u001b[0moriginal\u001b[0m\u001b[1;33m)\u001b[0m\u001b[1;33m)\u001b[0m\u001b[1;33m\u001b[0m\u001b[1;33m\u001b[0m\u001b[0m\n\u001b[0;32m      5\u001b[0m \u001b[0mprint\u001b[0m\u001b[1;33m(\u001b[0m\u001b[0moriginal\u001b[0m\u001b[1;33m.\u001b[0m\u001b[0mshape\u001b[0m\u001b[1;33m)\u001b[0m\u001b[1;33m\u001b[0m\u001b[1;33m\u001b[0m\u001b[0m\n",
      "\u001b[1;32m~\\.conda\\envs\\ml-project\\lib\\site-packages\\torch\\utils\\data\\dataloader.py\u001b[0m in \u001b[0;36m__next__\u001b[1;34m(self)\u001b[0m\n\u001b[0;32m    343\u001b[0m \u001b[1;33m\u001b[0m\u001b[0m\n\u001b[0;32m    344\u001b[0m     \u001b[1;32mdef\u001b[0m \u001b[0m__next__\u001b[0m\u001b[1;33m(\u001b[0m\u001b[0mself\u001b[0m\u001b[1;33m)\u001b[0m\u001b[1;33m:\u001b[0m\u001b[1;33m\u001b[0m\u001b[1;33m\u001b[0m\u001b[0m\n\u001b[1;32m--> 345\u001b[1;33m         \u001b[0mindex\u001b[0m \u001b[1;33m=\u001b[0m \u001b[0mself\u001b[0m\u001b[1;33m.\u001b[0m\u001b[0m_next_index\u001b[0m\u001b[1;33m(\u001b[0m\u001b[1;33m)\u001b[0m  \u001b[1;31m# may raise StopIteration\u001b[0m\u001b[1;33m\u001b[0m\u001b[1;33m\u001b[0m\u001b[0m\n\u001b[0m\u001b[0;32m    346\u001b[0m         \u001b[0mdata\u001b[0m \u001b[1;33m=\u001b[0m \u001b[0mself\u001b[0m\u001b[1;33m.\u001b[0m\u001b[0mdataset_fetcher\u001b[0m\u001b[1;33m.\u001b[0m\u001b[0mfetch\u001b[0m\u001b[1;33m(\u001b[0m\u001b[0mindex\u001b[0m\u001b[1;33m)\u001b[0m  \u001b[1;31m# may raise StopIteration\u001b[0m\u001b[1;33m\u001b[0m\u001b[1;33m\u001b[0m\u001b[0m\n\u001b[0;32m    347\u001b[0m         \u001b[1;32mif\u001b[0m \u001b[0mself\u001b[0m\u001b[1;33m.\u001b[0m\u001b[0mpin_memory\u001b[0m\u001b[1;33m:\u001b[0m\u001b[1;33m\u001b[0m\u001b[1;33m\u001b[0m\u001b[0m\n",
      "\u001b[1;32m~\\.conda\\envs\\ml-project\\lib\\site-packages\\torch\\utils\\data\\dataloader.py\u001b[0m in \u001b[0;36m_next_index\u001b[1;34m(self)\u001b[0m\n\u001b[0;32m    316\u001b[0m \u001b[1;33m\u001b[0m\u001b[0m\n\u001b[0;32m    317\u001b[0m     \u001b[1;32mdef\u001b[0m \u001b[0m_next_index\u001b[0m\u001b[1;33m(\u001b[0m\u001b[0mself\u001b[0m\u001b[1;33m)\u001b[0m\u001b[1;33m:\u001b[0m\u001b[1;33m\u001b[0m\u001b[1;33m\u001b[0m\u001b[0m\n\u001b[1;32m--> 318\u001b[1;33m         \u001b[1;32mreturn\u001b[0m \u001b[0mnext\u001b[0m\u001b[1;33m(\u001b[0m\u001b[0mself\u001b[0m\u001b[1;33m.\u001b[0m\u001b[0msampler_iter\u001b[0m\u001b[1;33m)\u001b[0m  \u001b[1;31m# may raise StopIteration\u001b[0m\u001b[1;33m\u001b[0m\u001b[1;33m\u001b[0m\u001b[0m\n\u001b[0m\u001b[0;32m    319\u001b[0m \u001b[1;33m\u001b[0m\u001b[0m\n\u001b[0;32m    320\u001b[0m     \u001b[1;32mdef\u001b[0m \u001b[0m__next__\u001b[0m\u001b[1;33m(\u001b[0m\u001b[0mself\u001b[0m\u001b[1;33m)\u001b[0m\u001b[1;33m:\u001b[0m\u001b[1;33m\u001b[0m\u001b[1;33m\u001b[0m\u001b[0m\n",
      "\u001b[1;31mStopIteration\u001b[0m: "
     ]
    }
   ],
   "source": [
    "original = testiter.next()\n",
    "noises = noiseiter.next()\n",
    "\n",
    "imshow(torchvision.utils.make_grid(original))\n",
    "print(original.shape)\n",
    "\n",
    "imshow(torchvision.utils.make_grid(noises))\n",
    "print(noises.shape)\n",
    "\n",
    "noises = noises.cuda()\n",
    "\n",
    "output = model(Variable(noises))\n",
    "print(output.shape)\n",
    "output = output.cpu().detach()\n",
    "imshow(torchvision.utils.make_grid(output))\n",
    "\n",
    "loss = objective(output, original)\n",
    "print(loss)"
   ]
  },
  {
   "cell_type": "code",
   "execution_count": 35,
   "metadata": {},
   "outputs": [
    {
     "data": {
      "text/plain": [
       "<matplotlib.legend.Legend at 0x238063baf28>"
      ]
     },
     "execution_count": 35,
     "metadata": {},
     "output_type": "execute_result"
    },
    {
     "data": {
      "image/png": "[encoded data removed]",
      "text/plain": [
       "<Figure size 432x288 with 1 Axes>"
      ]
     },
     "metadata": {
      "needs_background": "light"
     },
     "output_type": "display_data"
    }
   ],
   "source": [
    "loss_std = np.array(loss_train_std)\n",
    "train_loss = np.array(loss_train_mean)\n",
    "\n",
    "plt.plot(range(1, len(train_loss)+1), train_loss,'-r', label='train_loss')\n",
    "plt.fill_between(range(1, len(train_loss)+1), train_loss+loss_std, train_loss-loss_std, facecolor='#eba4a4')\n",
    "plt.title(\"Loss Value\")\n",
    "plt.xlabel(\"Epoch\", fontsize=\"12\")\n",
    "plt.ylabel(\"Loss\", fontsize=\"12\")\n",
    "plt.legend(fontsize=\"12\")"
   ]
  },
  {
   "cell_type": "code",
   "execution_count": null,
   "metadata": {},
   "outputs": [],
   "source": [
    "# for testing\n",
    "testdata        = np.load('test.npy')\n",
    "testdataset     = numpyDataset(testdata, transform)\n",
    "testloader      = DataLoader(testdataset, batch_size=1, shuffle=False, num_workers=0)\n",
    "\n",
    "result_for_submit = None    # this is for submit file\n",
    "\n",
    "\n",
    "for batch_idx, data in enumerate(testloader):\n",
    "\n",
    "        result_of_test = data\n",
    "\n",
    "        if batch_idx == 0:\n",
    "            result_for_submit = result_of_test\n",
    "        else:\n",
    "            try:\n",
    "                result_for_submit = torch.cat([result_for_submit, result_of_test], dim=0)\n",
    "\n",
    "            except RuntimeError:\n",
    "                transposed = torch.transpose(result_of_test, 2, 3)\n",
    "                result_for_submit = torch.cat([result_for_submit, transposed], dim=0)\n",
    "        \n",
    "    # the submit_file.shape must be (400,1,120,80) \n",
    "    submit_file = result_for_submit.detach().numpy()\n",
    "    np.save('GyeongHyeon_Kim.npy', submit_file)"
   ]
  }
 ],
 "metadata": {
  "kernelspec": {
   "display_name": "Python 3",
   "language": "python",
   "name": "python3"
  },
  "language_info": {
   "codemirror_mode": {
    "name": "ipython",
    "version": 3
   },
   "file_extension": ".py",
   "mimetype": "text/x-python",
   "name": "python",
   "nbconvert_exporter": "python",
   "pygments_lexer": "ipython3",
   "version": "3.6.9"
  },
  "varInspector": {
   "cols": {
    "lenName": 16,
    "lenType": 16,
    "lenVar": 40
   },
   "kernels_config": {
    "python": {
     "delete_cmd_postfix": "",
     "delete_cmd_prefix": "del ",
     "library": "var_list.py",
     "varRefreshCmd": "print(var_dic_list())"
    },
    "r": {
     "delete_cmd_postfix": ") ",
     "delete_cmd_prefix": "rm(",
     "library": "var_list.r",
     "varRefreshCmd": "cat(var_dic_list()) "
    }
   },
   "types_to_exclude": [
    "module",
    "function",
    "builtin_function_or_method",
    "instance",
    "_Feature"
   ],
   "window_display": false
  }
 },
 "nbformat": 4,
 "nbformat_minor": 2
}
