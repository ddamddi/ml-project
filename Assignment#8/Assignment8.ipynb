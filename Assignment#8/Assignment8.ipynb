{
 "cells": [
  {
   "cell_type": "markdown",
   "metadata": {},
   "source": [
    "# Assignment 8"
   ]
  },
  {
   "cell_type": "code",
   "execution_count": 1,
   "metadata": {},
   "outputs": [
    {
     "data": {
      "text/plain": [
       "'1.2.0'"
      ]
     },
     "execution_count": 1,
     "metadata": {},
     "output_type": "execute_result"
    }
   ],
   "source": [
    "from __future__ import print_function\n",
    "\n",
    "import torch\n",
    "import torch.nn as nn\n",
    "import torch.nn.functional as F\n",
    "import torch.optim as optim\n",
    "import torch.backends.cudnn as cudnn\n",
    "import torchvision\n",
    "import torchvision.transforms as transforms\n",
    "from torch.utils.data import Dataset, DataLoader\n",
    "from torch.autograd import Variable\n",
    "import numpy as np\n",
    "from tqdm.notebook import trange, tqdm\n",
    "import matplotlib.pyplot as plt\n",
    "\n",
    "torch.__version__"
   ]
  },
  {
   "cell_type": "markdown",
   "metadata": {},
   "source": [
    "## Load test data and add noises"
   ]
  },
  {
   "cell_type": "code",
   "execution_count": 2,
   "metadata": {},
   "outputs": [],
   "source": [
    "class numpyDataset(Dataset):\n",
    "    def __init__(self, data, transform=None):\n",
    "        self.data = torch.from_numpy(data).float()\n",
    "        self.transform = transform\n",
    "        \n",
    "    def __getitem__(self, index):\n",
    "        x = self.data[index]\n",
    "        \n",
    "        if self.transform:\n",
    "            x = self.transform(x)\n",
    "        \n",
    "        return x\n",
    "    \n",
    "    def __len__(self):\n",
    "        return len(self.data)"
   ]
  },
  {
   "cell_type": "code",
   "execution_count": 3,
   "metadata": {},
   "outputs": [],
   "source": [
    "def activateNoises(imagedata, std_dev):\n",
    "    imagedata += np.random.normal(0, std_dev, imagedata.shape)\n",
    "    \n",
    "    imagedata = np.minimum(imagedata, 1)\n",
    "    imagedata = np.maximum(imagedata, 0)\n",
    "    \n",
    "    return imagedata"
   ]
  },
  {
   "cell_type": "code",
   "execution_count": 4,
   "metadata": {},
   "outputs": [],
   "source": [
    "noises = [0.1, 0.2, 0.3, 0.4]\n",
    "\n",
    "transform       = transforms.Compose([\n",
    "                                transforms.ToPILImage(),\n",
    "                                transforms.Grayscale(num_output_channels=1),\n",
    "                                transforms.ToTensor(),\n",
    "                            ])\n",
    "\n",
    "# for training\n",
    "traindata       = np.load('data/train.npy')\n",
    "traindataset    = numpyDataset(traindata, transform)\n",
    "trainloader     = DataLoader(traindataset, batch_size=1, shuffle=False, num_workers=0)"
   ]
  },
  {
   "cell_type": "code",
   "execution_count": 5,
   "metadata": {
    "scrolled": true
   },
   "outputs": [
    {
     "name": "stdout",
     "output_type": "stream",
     "text": [
      "[[[0.         0.6051661  0.28552568 ... 0.61486304 1.         0.52739227]\n",
      "  [0.3795036  0.83197945 0.59639096 ... 0.5760525  1.         0.11514256]\n",
      "  [0.9641071  0.62923276 0.8952763  ... 0.65875006 0.37057683 0.10328747]\n",
      "  ...\n",
      "  [0.34951097 0.29382202 0.30376965 ... 0.72488797 0.38328022 0.        ]\n",
      "  [0.22617392 0.5620622  1.         ... 0.826604   0.         0.        ]\n",
      "  [0.94241345 0.         0.22451225 ... 0.48591673 0.6662454  0.        ]]\n",
      "\n",
      " [[0.6511332  0.46176583 0.4163122  ... 0.63801706 0.09100156 1.        ]\n",
      "  [0.16304618 1.         1.         ... 0.32725805 0.5554964  0.09809058]\n",
      "  [0.521878   0.5736621  0.71491396 ... 1.         0.03369563 0.644455  ]\n",
      "  ...\n",
      "  [0.         0.18703593 0.         ... 0.3195654  0.7078311  0.18092014]\n",
      "  [0.4951032  0.17110664 0.20109786 ... 0.7768712  0.12868667 0.5528101 ]\n",
      "  [0.6664603  1.         0.4512232  ... 0.45217937 0.         0.        ]]\n",
      "\n",
      " [[0.35172832 0.2864823  0.5046197  ... 0.9937363  1.         0.43436792]\n",
      "  [0.6694437  0.55262667 0.77973366 ... 0.09219879 0.50183237 0.13198122]\n",
      "  [1.         0.28566647 0.59628403 ... 0.         0.40861294 0.7610246 ]\n",
      "  ...\n",
      "  [0.41281927 0.         1.         ... 0.25666896 0.3149074  0.75335455]\n",
      "  [0.71901345 0.9698516  0.0218829  ... 0.         0.71815777 0.356229  ]\n",
      "  [0.16376697 0.         1.         ... 0.27648947 0.14990209 0.        ]]\n",
      "\n",
      " ...\n",
      "\n",
      " [[0.35589543 0.         0.88524735 ... 0.238519   0.51335675 0.652256  ]\n",
      "  [0.45984083 0.2389004  0.6307044  ... 0.8223003  0.5675733  0.40777555]\n",
      "  [0.18871225 0.74183315 0.3042274  ... 0.         0.02660569 0.42984912]\n",
      "  ...\n",
      "  [0.18013822 0.         0.20925906 ... 0.7940277  0.92844623 0.09570094]\n",
      "  [0.8440339  0.7654816  0.5731343  ... 0.6656     0.50223297 0.42961678]\n",
      "  [0.11648228 1.         0.21391024 ... 0.9263919  0.91750795 0.02550695]]\n",
      "\n",
      " [[0.20248029 0.92942953 0.02729865 ... 0.6859905  0.34226146 0.52511823]\n",
      "  [1.         0.40247515 0.         ... 0.         1.         0.13705789]\n",
      "  [0.50405204 0.63514835 0.21241543 ... 0.24850145 0.65784395 0.05376268]\n",
      "  ...\n",
      "  [0.43847457 0.9323901  0.6092067  ... 0.3299726  0.8529068  0.        ]\n",
      "  [1.         0.         0.52251565 ... 0.37031633 0.5742472  0.833039  ]\n",
      "  [0.         0.15264888 0.5682566  ... 0.         0.7782061  0.9932207 ]]\n",
      "\n",
      " [[0.5252412  0.08562786 0.6205235  ... 0.5490921  0.         0.        ]\n",
      "  [0.80119663 0.03602564 0.         ... 0.         0.098196   0.48776934]\n",
      "  [0.15705256 0.         0.         ... 0.36236247 0.32120726 0.4877109 ]\n",
      "  ...\n",
      "  [0.45930362 0.33049864 0.43520495 ... 0.66517204 0.6130543  0.2454678 ]\n",
      "  [0.07221415 0.18534227 0.         ... 0.31557792 0.7099455  0.28065795]\n",
      "  [0.         0.10962871 0.29392403 ... 0.90185076 0.24408588 0.5236078 ]]]\n"
     ]
    }
   ],
   "source": [
    "print(activateNoises(traindata, 0.4))"
   ]
  },
  {
   "cell_type": "code",
   "execution_count": null,
   "metadata": {},
   "outputs": [],
   "source": []
  }
 ],
 "metadata": {
  "kernelspec": {
   "display_name": "Python 3",
   "language": "python",
   "name": "python3"
  },
  "language_info": {
   "codemirror_mode": {
    "name": "ipython",
    "version": 3
   },
   "file_extension": ".py",
   "mimetype": "text/x-python",
   "name": "python",
   "nbconvert_exporter": "python",
   "pygments_lexer": "ipython3",
   "version": "3.6.9"
  },
  "varInspector": {
   "cols": {
    "lenName": 16,
    "lenType": 16,
    "lenVar": 40
   },
   "kernels_config": {
    "python": {
     "delete_cmd_postfix": "",
     "delete_cmd_prefix": "del ",
     "library": "var_list.py",
     "varRefreshCmd": "print(var_dic_list())"
    },
    "r": {
     "delete_cmd_postfix": ") ",
     "delete_cmd_prefix": "rm(",
     "library": "var_list.r",
     "varRefreshCmd": "cat(var_dic_list()) "
    }
   },
   "types_to_exclude": [
    "module",
    "function",
    "builtin_function_or_method",
    "instance",
    "_Feature"
   ],
   "window_display": false
  }
 },
 "nbformat": 4,
 "nbformat_minor": 2
}
